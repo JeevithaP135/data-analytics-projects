{
 "cells": [
  {
   "cell_type": "code",
   "execution_count": 1,
   "id": "1a097d8b",
   "metadata": {},
   "outputs": [
    {
     "name": "stdout",
     "output_type": "stream",
     "text": [
      "Data scraped and saved to supply_chain_scraped_data.csv\n"
     ]
    }
   ],
   "source": [
    "import requests\n",
    "from bs4 import BeautifulSoup\n",
    "import pandas as pd\n",
    "\n",
    "# URL of the webpage containing supply chain data (this is a hypothetical example)\n",
    "url = \"https://example.com/supply-chain-data\"\n",
    "\n",
    "# Simulate a GET request\n",
    "response = requests.get(url)\n",
    "\n",
    "# Parse the HTML content using BeautifulSoup\n",
    "soup = BeautifulSoup(response.text, 'html.parser')\n",
    "\n",
    "# Hypothetical data extraction (adjust selectors based on actual webpage)\n",
    "# Here we pretend to scrape a table\n",
    "rows = soup.find_all('tr')  # Locate rows in a table\n",
    "\n",
    "# Initialize lists to store scraped data\n",
    "order_ids = []\n",
    "products = []\n",
    "quantities = []\n",
    "unit_prices = []\n",
    "suppliers = []\n",
    "order_dates = []\n",
    "\n",
    "# Loop through rows to extract data\n",
    "for row in rows[1:]:  # Skip header row\n",
    "    cells = row.find_all('td')\n",
    "    order_ids.append(cells[0].text)\n",
    "    products.append(cells[1].text)\n",
    "    quantities.append(int(cells[2].text))\n",
    "    unit_prices.append(float(cells[3].text))\n",
    "    suppliers.append(cells[4].text)\n",
    "    order_dates.append(cells[5].text)\n",
    "\n",
    "# Create a DataFrame from scraped data\n",
    "scraped_data = pd.DataFrame({\n",
    "    'Order ID': order_ids,\n",
    "    'Product': products,\n",
    "    'Quantity': quantities,\n",
    "    'Unit Price': unit_prices,\n",
    "    'Supplier': suppliers,\n",
    "    'Order Date': order_dates\n",
    "})\n",
    "\n",
    "# Save to a CSV file\n",
    "scraped_data.to_csv('supply_chain_scraped_data.csv', index=False)\n",
    "\n",
    "print(\"Data scraped and saved to supply_chain_scraped_data.csv\")\n"
   ]
  },
  {
   "cell_type": "code",
   "execution_count": null,
   "id": "300618e2",
   "metadata": {},
   "outputs": [],
   "source": []
  }
 ],
 "metadata": {
  "kernelspec": {
   "display_name": "Python 3 (ipykernel)",
   "language": "python",
   "name": "python3"
  },
  "language_info": {
   "codemirror_mode": {
    "name": "ipython",
    "version": 3
   },
   "file_extension": ".py",
   "mimetype": "text/x-python",
   "name": "python",
   "nbconvert_exporter": "python",
   "pygments_lexer": "ipython3",
   "version": "3.11.5"
  }
 },
 "nbformat": 4,
 "nbformat_minor": 5
}
